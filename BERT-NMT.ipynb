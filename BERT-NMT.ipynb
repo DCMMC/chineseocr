{
 "cells": [
  {
   "cell_type": "code",
   "execution_count": 2,
   "metadata": {},
   "outputs": [
    {
     "name": "stdout",
     "output_type": "stream",
     "text": [
      "/data/xiaowentao/chineseocr\r\n",
      "apphelper\t\t      network.json\r\n",
      "application\t\t      NLPCC2018_dataset\r\n",
      "app.py\t\t\t      NLPCC_2018_TASK2_GEC\r\n",
      "BERT-NMT.ipynb\t\t      ocrjob.py\r\n",
      "Chinese-XLNet\t\t      post-demo.py\r\n",
      "cnocr\t\t\t      __pycache__\r\n",
      "config.py\t\t      pycorrector\r\n",
      "crnn\t\t\t      README.md\r\n",
      "CRNN_BERT.ipynb\t\t      requirements.txt\r\n",
      "CRNN.ipynb\t\t      res_aux_ctc_beam.json\r\n",
      "CRNN_OCR_lite\t\t      res_aux_greedy.json\r\n",
      "crnn.pytorch\t\t      run.py\r\n",
      "ctc_beam_grid_search.log      setup-cpu.md\r\n",
      "ctcdecode\t\t      setup.md\r\n",
      "darknet\t\t\t      start.sh\r\n",
      "data_generated\t\t      static\r\n",
      "dataset\t\t\t      sym.json\r\n",
      "dataset_CS2S.ipynb\t      templates\r\n",
      "debug.py\t\t      test\r\n",
      "debug.txt\t\t      test_ctc_beam.py\r\n",
      "decoders\t\t      test.py\r\n",
      "Dockerfile\t\t      text\r\n",
      "docker.sh\t\t      TextRecognitionDataGenerator\r\n",
      "LICENSE\t\t\t      textwrap3.py\r\n",
      "log_ctc_beam_grid_search.txt  THUCNews\r\n",
      "__MACOSX\t\t      THUCNews.zip\r\n",
      "main.py\t\t\t      tools\r\n",
      "models\t\t\t      XLNet.ipynb\r\n",
      "mxnet_crnn_models\r\n"
     ]
    }
   ],
   "source": [
    "!pwd && ls"
   ]
  }
 ],
 "metadata": {
  "kernelspec": {
   "display_name": "Python 3",
   "language": "python",
   "name": "python3"
  },
  "language_info": {
   "codemirror_mode": {
    "name": "ipython",
    "version": 3
   },
   "file_extension": ".py",
   "mimetype": "text/x-python",
   "name": "python",
   "nbconvert_exporter": "python",
   "pygments_lexer": "ipython3",
   "version": "3.7.6"
  }
 },
 "nbformat": 4,
 "nbformat_minor": 4
}
