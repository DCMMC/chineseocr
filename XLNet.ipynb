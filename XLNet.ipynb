{
 "cells": [
  {
   "cell_type": "code",
   "execution_count": 1,
   "metadata": {},
   "outputs": [
    {
     "name": "stdout",
     "output_type": "stream",
     "text": [
      "Collecting git+git://github.com/huggingface/transformers\n",
      "  Cloning git://github.com/huggingface/transformers to /tmp/pip-req-build-swrqzlzc\n",
      "  Running command git clone -q git://github.com/huggingface/transformers /tmp/pip-req-build-swrqzlzc\n",
      "Requirement already satisfied, skipping upgrade: numpy in /amax/data/xiaowentao/.anaconda3/lib/python3.7/site-packages (from transformers==2.6.0) (1.18.1)\n",
      "Collecting tokenizers==0.5.2\n",
      "  Downloading tokenizers-0.5.2-cp37-cp37m-manylinux1_x86_64.whl (5.6 MB)\n",
      "\u001b[K     |████████████████████████████████| 5.6 MB 4.4 MB/s eta 0:00:01     |███▏                            | 552 kB 157 kB/s eta 0:00:33     |████                            | 706 kB 157 kB/s eta 0:00:32     |██████▎                         | 1.1 MB 157 kB/s eta 0:00:29     |██████████████▉                 | 2.6 MB 4.4 MB/s eta 0:00:01\n",
      "\u001b[?25hRequirement already satisfied, skipping upgrade: boto3 in /amax/data/xiaowentao/.anaconda3/lib/python3.7/site-packages (from transformers==2.6.0) (1.12.12)\n",
      "Requirement already satisfied, skipping upgrade: filelock in /amax/data/xiaowentao/.anaconda3/lib/python3.7/site-packages (from transformers==2.6.0) (3.0.12)\n",
      "Requirement already satisfied, skipping upgrade: requests in /amax/data/xiaowentao/.anaconda3/lib/python3.7/site-packages (from transformers==2.6.0) (2.23.0)\n",
      "Requirement already satisfied, skipping upgrade: tqdm>=4.27 in /amax/data/xiaowentao/.local/lib/python3.7/site-packages (from transformers==2.6.0) (4.29.1)\n",
      "Collecting regex!=2019.12.17\n",
      "  Downloading regex-2020.2.20-cp37-cp37m-manylinux2010_x86_64.whl (689 kB)\n",
      "\u001b[K     |████████████████████████████████| 689 kB 3.9 MB/s eta 0:00:01\n",
      "\u001b[?25hCollecting sentencepiece\n",
      "  Downloading sentencepiece-0.1.85-cp37-cp37m-manylinux1_x86_64.whl (1.0 MB)\n",
      "\u001b[K     |████████████████████████████████| 1.0 MB 4.2 MB/s eta 0:00:01\n",
      "\u001b[?25hCollecting sacremoses\n",
      "  Downloading sacremoses-0.0.38.tar.gz (860 kB)\n",
      "\u001b[K     |████████████████████████████████| 860 kB 4.1 MB/s eta 0:00:01\n",
      "\u001b[?25hRequirement already satisfied, skipping upgrade: s3transfer<0.4.0,>=0.3.0 in /amax/data/xiaowentao/.anaconda3/lib/python3.7/site-packages (from boto3->transformers==2.6.0) (0.3.3)\n",
      "Requirement already satisfied, skipping upgrade: botocore<1.16.0,>=1.15.12 in /amax/data/xiaowentao/.anaconda3/lib/python3.7/site-packages (from boto3->transformers==2.6.0) (1.15.12)\n",
      "Requirement already satisfied, skipping upgrade: jmespath<1.0.0,>=0.7.1 in /amax/data/xiaowentao/.anaconda3/lib/python3.7/site-packages (from boto3->transformers==2.6.0) (0.9.4)\n",
      "Requirement already satisfied, skipping upgrade: chardet<4,>=3.0.2 in /amax/data/xiaowentao/.anaconda3/lib/python3.7/site-packages (from requests->transformers==2.6.0) (3.0.4)\n",
      "Requirement already satisfied, skipping upgrade: idna<3,>=2.5 in /amax/data/xiaowentao/.anaconda3/lib/python3.7/site-packages (from requests->transformers==2.6.0) (2.9)\n",
      "Requirement already satisfied, skipping upgrade: urllib3!=1.25.0,!=1.25.1,<1.26,>=1.21.1 in /amax/data/xiaowentao/.anaconda3/lib/python3.7/site-packages (from requests->transformers==2.6.0) (1.25.8)\n",
      "Requirement already satisfied, skipping upgrade: certifi>=2017.4.17 in /amax/data/xiaowentao/.anaconda3/lib/python3.7/site-packages (from requests->transformers==2.6.0) (2019.11.28)\n",
      "Requirement already satisfied, skipping upgrade: six in /amax/data/xiaowentao/.anaconda3/lib/python3.7/site-packages (from sacremoses->transformers==2.6.0) (1.14.0)\n",
      "Requirement already satisfied, skipping upgrade: click in /amax/data/xiaowentao/.anaconda3/lib/python3.7/site-packages (from sacremoses->transformers==2.6.0) (7.1.1)\n",
      "Requirement already satisfied, skipping upgrade: joblib in /amax/data/xiaowentao/.anaconda3/lib/python3.7/site-packages (from sacremoses->transformers==2.6.0) (0.14.1)\n",
      "Requirement already satisfied, skipping upgrade: python-dateutil<3.0.0,>=2.1 in /amax/data/xiaowentao/.anaconda3/lib/python3.7/site-packages (from botocore<1.16.0,>=1.15.12->boto3->transformers==2.6.0) (2.8.1)\n",
      "Requirement already satisfied, skipping upgrade: docutils<0.16,>=0.10 in /amax/data/xiaowentao/.anaconda3/lib/python3.7/site-packages (from botocore<1.16.0,>=1.15.12->boto3->transformers==2.6.0) (0.15.2)\n",
      "Building wheels for collected packages: transformers, sacremoses\n",
      "  Building wheel for transformers (setup.py) ... \u001b[?25ldone\n",
      "\u001b[?25h  Created wheel for transformers: filename=transformers-2.6.0-py3-none-any.whl size=537862 sha256=bef7cbf22c2e7134e9cd123a4178369e07f99d64e50667892c609e6937edfea6\n",
      "  Stored in directory: /tmp/pip-ephem-wheel-cache-5p8hqdyw/wheels/55/4e/ba/274adcac9480d320d3a756093c39f3176d1cf3b92c0acc348c\n",
      "  Building wheel for sacremoses (setup.py) ... \u001b[?25ldone\n",
      "\u001b[?25h  Created wheel for sacremoses: filename=sacremoses-0.0.38-py3-none-any.whl size=884629 sha256=3a0dfeac00022c959de6cb593e98b070276e723cb38ac8099e9a4a43e5e5fcb3\n",
      "  Stored in directory: /amax/data/xiaowentao/.cache/pip/wheels/99/c9/5a/a5e36bce983040ea5061a8ec65b5852bfebad4b1afa8d5b394\n",
      "Successfully built transformers sacremoses\n",
      "Installing collected packages: tokenizers, regex, sentencepiece, sacremoses, transformers\n",
      "Successfully installed regex-2020.2.20 sacremoses-0.0.38 sentencepiece-0.1.85 tokenizers-0.5.2 transformers-2.6.0\n"
     ]
    }
   ],
   "source": [
    "!pip install --user -U git+git://github.com/huggingface/transformers"
   ]
  },
  {
   "cell_type": "code",
   "execution_count": 17,
   "metadata": {},
   "outputs": [],
   "source": [
    "!cd /data/xiaowentao/chineseocr/ && rm -rf ./Chinese-XLNet"
   ]
  }
 ],
 "metadata": {
  "kernelspec": {
   "display_name": "Python 3",
   "language": "python",
   "name": "python3"
  },
  "language_info": {
   "codemirror_mode": {
    "name": "ipython",
    "version": 3
   },
   "file_extension": ".py",
   "mimetype": "text/x-python",
   "name": "python",
   "nbconvert_exporter": "python",
   "pygments_lexer": "ipython3",
   "version": "3.7.6"
  }
 },
 "nbformat": 4,
 "nbformat_minor": 4
}
